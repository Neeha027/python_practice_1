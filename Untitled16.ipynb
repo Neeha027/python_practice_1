{
 "cells": [
  {
   "cell_type": "code",
   "execution_count": 1,
   "id": "b84e0b7e-f54a-41e4-b823-7e46cb9e3912",
   "metadata": {},
   "outputs": [
    {
     "name": "stdout",
     "output_type": "stream",
     "text": [
      "hello , Neeha!\n"
     ]
    }
   ],
   "source": [
    "print(\"hello , Neeha!\")"
   ]
  },
  {
   "cell_type": "code",
   "execution_count": 2,
   "id": "dd0428e8-d24e-434d-9f11-786bab54aff2",
   "metadata": {},
   "outputs": [
    {
     "name": "stdout",
     "output_type": "stream",
     "text": [
      "MY NAME IS NEEHA MY  AGE IS 21 MY FAV COLOR IS BLACK\n"
     ]
    }
   ],
   "source": [
    "#Print your name, age, and favorite color.\n",
    "print(\"MY NAME IS NEEHA\",\"MY  AGE IS 21\", \"MY FAV COLOR IS BLACK\")\n"
   ]
  },
  {
   "cell_type": "code",
   "execution_count": 9,
   "id": "f95992cd-a4ea-4b66-a4e0-8bc4d5d340cc",
   "metadata": {},
   "outputs": [
    {
     "name": "stdout",
     "output_type": "stream",
     "text": [
      "*\n",
      "**\n",
      "***\n"
     ]
    }
   ],
   "source": [
    "print(\"*\")\n",
    "print(\"**\")\n",
    "print(\"***\")\n"
   ]
  },
  {
   "cell_type": "code",
   "execution_count": 10,
   "id": "de353d39-722c-41bc-a62d-41dd740b850d",
   "metadata": {},
   "outputs": [
    {
     "name": "stdin",
     "output_type": "stream",
     "text": [
      "enter a number: 2\n",
      "enter a number: 3\n"
     ]
    },
    {
     "name": "stdout",
     "output_type": "stream",
     "text": [
      "23\n"
     ]
    }
   ],
   "source": [
    "#Data Types & Variables\n",
    "#Take two numbers as input and print their sum.\n",
    "A= input(\"enter a number:\")\n",
    "B= input(\"enter a number:\")\n",
    "sum= A+B;\n",
    "print(sum)"
   ]
  },
  {
   "cell_type": "code",
   "execution_count": 11,
   "id": "6c81e3dc-be5b-407b-9186-aeb4a7929e28",
   "metadata": {},
   "outputs": [
    {
     "name": "stdout",
     "output_type": "stream",
     "text": [
      "Neeha\n"
     ]
    }
   ],
   "source": [
    "#Store your name in a variable and print it.\n",
    "name= \"Neeha\"\n",
    "print(name)"
   ]
  },
  {
   "cell_type": "code",
   "execution_count": 12,
   "id": "6a9cfe72-7a85-49e2-bade-ff79acd05aba",
   "metadata": {},
   "outputs": [
    {
     "name": "stdout",
     "output_type": "stream",
     "text": [
      "50\n"
     ]
    }
   ],
   "source": [
    "#Convert string \"10\" to an integer and multiply by 5.\n",
    "num = 10\n",
    "convert = int(num)\n",
    "result= convert*5\n",
    "print(result)\n"
   ]
  },
  {
   "cell_type": "code",
   "execution_count": 24,
   "id": "ed1fd982-90fb-4156-9cf1-6603e2c8e6e4",
   "metadata": {},
   "outputs": [
    {
     "name": "stdin",
     "output_type": "stream",
     "text": [
      "enter your age: 20\n"
     ]
    },
    {
     "name": "stdout",
     "output_type": "stream",
     "text": [
      "adult\n"
     ]
    }
   ],
   "source": [
    "#Take user's age and check if they are above 18.\n",
    "\n",
    "age= int(input(\"enter your age:\"))\n",
    "if age<18:\n",
    "    print(\"underage\")\n",
    "else : \n",
    "  print(\"adult\")"
   ]
  },
  {
   "cell_type": "code",
   "execution_count": 28,
   "id": "fbb6aab4-a9c5-4a89-84d4-1172da8a2fc5",
   "metadata": {},
   "outputs": [
    {
     "name": "stdin",
     "output_type": "stream",
     "text": [
      "enter a number: 2\n"
     ]
    },
    {
     "name": "stdout",
     "output_type": "stream",
     "text": [
      "4\n",
      "8\n"
     ]
    }
   ],
   "source": [
    "#3. Operators\n",
    "#Write a program to find the square and cube of a number.\n",
    "num= int(input(\"enter a number:\"))\n",
    "result1= (num)**2\n",
    "result2=(num)**3\n",
    "print(result1)\n",
    "print(result2)"
   ]
  },
  {
   "cell_type": "code",
   "execution_count": 33,
   "id": "7e8e58d4-fbc7-49e7-a26e-67256e593c26",
   "metadata": {},
   "outputs": [
    {
     "name": "stdin",
     "output_type": "stream",
     "text": [
      "enter a number: 2\n",
      "enter a number: 22\n"
     ]
    },
    {
     "name": "stdout",
     "output_type": "stream",
     "text": [
      "22 is greater than  2\n"
     ]
    }
   ],
   "source": [
    "#Take two numbers and print which is greater.\n",
    "input1=int(input(\"enter a number:\"))\n",
    "input2=int(input(\"enter a number:\"))\n",
    "if input1> input2:\n",
    "           print(input1 ,\"is greater than \",input2)\n",
    "elif input1< input2:\n",
    "           print(input2 ,\"is greater than \", input1)\n",
    "else:\n",
    "   print(\"both are equal\")"
   ]
  },
  {
   "cell_type": "code",
   "execution_count": 34,
   "id": "0979cebc-ede2-4662-b675-f3afc1df2cbd",
   "metadata": {},
   "outputs": [
    {
     "name": "stdin",
     "output_type": "stream",
     "text": [
      "Enter first number:  2\n",
      "Enter second number:  3\n"
     ]
    },
    {
     "name": "stdout",
     "output_type": "stream",
     "text": [
      "Addition: 5\n",
      "Subtraction: -1\n",
      "Multiplication: 6\n",
      "Division (float): 0.6666666666666666\n",
      "Modulus (remainder): 2\n",
      "Floor Division: 0\n",
      "Exponentiation (a to the power b): 8\n"
     ]
    }
   ],
   "source": [
    "#Use all arithmetic operators in one program.\n",
    "a = int(input(\"Enter first number: \"))\n",
    "b = int(input(\"Enter second number: \"))\n",
    "\n",
    "print(\"Addition:\", a + b)\n",
    "print(\"Subtraction:\", a - b)\n",
    "print(\"Multiplication:\", a * b)\n",
    "print(\"Division (float):\", a / b)\n",
    "print(\"Modulus (remainder):\", a % b)\n",
    "print(\"Floor Division:\", a // b)\n",
    "print(\"Exponentiation (a to the power b):\", a ** b)\n"
   ]
  },
  {
   "cell_type": "code",
   "execution_count": 35,
   "id": "d9716710-56f0-42b8-8aab-95bcf80ff9b2",
   "metadata": {},
   "outputs": [
    {
     "name": "stdin",
     "output_type": "stream",
     "text": [
      "Enter a number:  13\n"
     ]
    },
    {
     "name": "stdout",
     "output_type": "stream",
     "text": [
      "The number is between 10 and 20.\n"
     ]
    }
   ],
   "source": [
    "#check if a number is between 10 and 20 using logical operators (and)\n",
    "num = int(input(\"Enter a number: \"))\n",
    "\n",
    "if num >= 10 and num <= 20:\n",
    "    print(\"The number is between 10 and 20.\")\n",
    "else:\n",
    "    print(\"The number is NOT between 10 and 20.\")\n"
   ]
  },
  {
   "cell_type": "code",
   "execution_count": 37,
   "id": "4f04f4ed-c29a-4f09-ab7c-265d67991998",
   "metadata": {},
   "outputs": [
    {
     "name": "stdin",
     "output_type": "stream",
     "text": [
      "enter a number: 0\n"
     ]
    },
    {
     "name": "stdout",
     "output_type": "stream",
     "text": [
      "zero\n"
     ]
    }
   ],
   "source": [
    "#Control Flow\n",
    "#Check if a number is positive, negative, or zero.\n",
    "num1 = int(input(\"enter a number:\"))\n",
    "if num1>0:\n",
    "    print(\"positive\")\n",
    "elif num1<0:\n",
    "    print(\"negative\")\n",
    "else:\n",
    "    print(\"zero\")"
   ]
  },
  {
   "cell_type": "code",
   "execution_count": 40,
   "id": "8ae411d5-d7ab-4f42-b443-8dcb8b5eb8e5",
   "metadata": {},
   "outputs": [
    {
     "name": "stdin",
     "output_type": "stream",
     "text": [
      "enter a number: 2\n"
     ]
    },
    {
     "name": "stdout",
     "output_type": "stream",
     "text": [
      "even\n"
     ]
    }
   ],
   "source": [
    "#Take a number and check if it is even or odd.\n",
    "num=int(input(\"enter a number:\"))\n",
    "if num %2==0:\n",
    " print(\"even\")\n",
    "else:\n",
    "    print(\"odd\")"
   ]
  },
  {
   "cell_type": "code",
   "execution_count": 45,
   "id": "3b3447e3-09f6-4726-9933-1d1e6776e493",
   "metadata": {},
   "outputs": [
    {
     "name": "stdin",
     "output_type": "stream",
     "text": [
      "enter a number: 56\n",
      "enter a number: 67\n",
      "enter a number: 33\n"
     ]
    },
    {
     "name": "stdout",
     "output_type": "stream",
     "text": [
      "67 is greater\n"
     ]
    }
   ],
   "source": [
    "#find the largest of 3 numbers.\n",
    "num1 = int(input(\"enter a number:\"))\n",
    "num2 = int(input(\"enter a number:\"))\n",
    "num3 = int(input(\"enter a number:\"))\n",
    "if (num1 >=num2  and num1>=num3):\n",
    "    print(num1,\"is greater\")\n",
    "elif num2>= num3:\n",
    "    print(num2,\"is greater\")\n",
    "else:\n",
    "    print(num3,\"is greater\")"
   ]
  },
  {
   "cell_type": "code",
   "execution_count": 46,
   "id": "b386a6a4-28a0-40f7-977a-5f7dac0ef413",
   "metadata": {},
   "outputs": [
    {
     "name": "stdin",
     "output_type": "stream",
     "text": [
      "enter marks: 30\n"
     ]
    },
    {
     "name": "stdout",
     "output_type": "stream",
     "text": [
      "GOT D grade\n"
     ]
    }
   ],
   "source": [
    "#Grade a student based on marks (>=90: A, 80-89: B, else: C).\n",
    "student= float(input(\"enter marks:\"))\n",
    "if student>=90:\n",
    "    print(student, \"Got A+ grade\")\n",
    "elif student>=80:\n",
    "    print(student, \"Got A grade\")\n",
    "elif student>=70:\n",
    "    print(student, \"Got B+ grade\")\n",
    "elif student>=60:\n",
    "    print(student,\" GOT B grade\")\n",
    "elif  student>= 50:\n",
    "    print(\" GOT C+ grade\")\n",
    "elif student >=40:\n",
    "   print(\"GOT c grade\")\n",
    "else:\n",
    "    print(\"GOT D grade\")\n",
    "\n"
   ]
  },
  {
   "cell_type": "code",
   "execution_count": 55,
   "id": "47baa2be-9e8c-487b-9607-3174985659de",
   "metadata": {},
   "outputs": [
    {
     "name": "stdout",
     "output_type": "stream",
     "text": [
      "1\n",
      "2\n",
      "3\n",
      "4\n",
      "5\n",
      "6\n",
      "7\n",
      "8\n",
      "9\n",
      "10\n"
     ]
    }
   ],
   "source": [
    "#Loops while loop\n",
    "\"\"\"i = 1\n",
    "while i < 6:\n",
    "  print(i)\n",
    "  i += 1 \"\"\"\n",
    "#Print numbers from 1 to 10 using a while loop.\n",
    "\n",
    "i = 1\n",
    "while i < 11:\n",
    "    print(i)\n",
    "    i += 1\n"
   ]
  },
  {
   "cell_type": "code",
   "execution_count": 60,
   "id": "dd9742cd-379b-45b0-ae7d-0eeb641824d8",
   "metadata": {},
   "outputs": [
    {
     "name": "stdin",
     "output_type": "stream",
     "text": [
      "enter a numner: 2\n"
     ]
    },
    {
     "name": "stdout",
     "output_type": "stream",
     "text": [
      " 2*1 =2\n",
      " 2*2 =4\n",
      " 2*3 =6\n",
      " 2*4 =8\n",
      " 2*5 =10\n",
      " 2*6 =12\n",
      " 2*7 =14\n",
      " 2*8 =16\n",
      " 2*9 =18\n",
      " 2*10 =20\n"
     ]
    }
   ],
   "source": [
    "#Print multiplication table of a number (input).\n",
    "num1 =int(input(\"enter a numner:\"))\n",
    "for i in range(1,11):\n",
    "    print(f\" {num}*{i} ={num*i}\")"
   ]
  },
  {
   "cell_type": "code",
   "execution_count": 66,
   "id": "478c923b-b97d-4d31-b41d-fa319e0bc684",
   "metadata": {},
   "outputs": [
    {
     "name": "stdin",
     "output_type": "stream",
     "text": [
      "enter a number: 4\n"
     ]
    },
    {
     "name": "stdout",
     "output_type": "stream",
     "text": [
      "factorial of 4 is 24\n"
     ]
    }
   ],
   "source": [
    "#Find the factorial of a number\n",
    "num = int(input(\"enter a number:\"))\n",
    "fact =1\n",
    "for i in range(1,num+1):\n",
    "   fact *= i\n",
    "print(\"factorial of\",num,\"is\", fact)\n",
    "\n",
    "#where num=5\n",
    "# fact =1\n",
    "# i=1-->fact=1*1 =1\n",
    "#i=2-->fact=1*2 =2\n",
    "#i=3-->fact=2*1=2----->fact=2\n",
    "#.....fact=2*2=4\n"
   ]
  },
  {
   "cell_type": "code",
   "execution_count": 67,
   "id": "6ba6d7e8-5e52-4b51-a421-61e56ee60423",
   "metadata": {},
   "outputs": [
    {
     "name": "stdin",
     "output_type": "stream",
     "text": [
      "Enter a number:  3\n"
     ]
    },
    {
     "name": "stdout",
     "output_type": "stream",
     "text": [
      "Reversed number: 3\n"
     ]
    }
   ],
   "source": [
    "#Reverse a number using a while loop.\n",
    "num = int(input(\"Enter a number: \"))\n",
    "reverse = 0\n",
    "\n",
    "while num != 0:\n",
    "    digit = num % 10          # Get the last digit\n",
    "    reverse = reverse * 10 + digit  # Append digit to reversed number\n",
    "    num = num // 10           # Remove the last digit\n",
    "\n",
    "print(\"Reversed number:\", reverse)"
   ]
  },
  {
   "cell_type": "code",
   "execution_count": 78,
   "id": "e430e300-1e96-4af5-b080-4ac60d852c28",
   "metadata": {},
   "outputs": [
    {
     "name": "stdout",
     "output_type": "stream",
     "text": [
      "1\n",
      "12\n",
      "123\n"
     ]
    }
   ],
   "source": [
    "for i in range(1, 4):      \n",
    "    for j in range(1, i + 1):  \n",
    "        print(j, end=\"\")     \n",
    "    print()         \n",
    "    \n",
    "\n",
    "\n",
    "#hear i--->(1,4)-----(1,2,3)\n",
    "#i=1;\n",
    "#j=(1,(i+1)-->(1+1))----->(1,2)---->then 1\n",
    "#end \n",
    "#so print===>1\n",
    "\n",
    "#i=2;\n",
    "#j=(1,(2+1))---------->j(1,3)----->then 1,2\n",
    "# end\n",
    "#so print===>12\n",
    "\n",
    "#i=3\n",
    "#j=(1,(3+1))--------->j(1,4)===>then 1,2,3\n",
    " \n",
    " #so print====>123\n"
   ]
  },
  {
   "cell_type": "code",
   "execution_count": 77,
   "id": "add8eaa8-86b7-4060-ae03-60fca7db21b4",
   "metadata": {},
   "outputs": [
    {
     "name": "stdin",
     "output_type": "stream",
     "text": [
      "enter your name: neeha\n"
     ]
    },
    {
     "name": "stdout",
     "output_type": "stream",
     "text": [
      "5\n"
     ]
    }
   ],
   "source": [
    "#Take a string input and print its length\n",
    "name= input(\"enter your name:\")\n",
    "print(len(name))"
   ]
  },
  {
   "cell_type": "code",
   "execution_count": 79,
   "id": "b0a486ac-cd64-4e75-9259-376a3b149970",
   "metadata": {},
   "outputs": [
    {
     "name": "stdin",
     "output_type": "stream",
     "text": [
      "Enter a string:  neeha\n"
     ]
    },
    {
     "name": "stdout",
     "output_type": "stream",
     "text": [
      "First character: n\n",
      "Last character: a\n"
     ]
    }
   ],
   "source": [
    "#Print first and last character of a string.\n",
    "text = input(\"Enter a string: \")\n",
    "\n",
    "# Check if the string is not empty\n",
    "if len(text) > 0:\n",
    "    print(\"First character:\", text[0])\n",
    "    print(\"Last character:\", text[-1])\n",
    "else:\n",
    "    print(\"You entered an empty string.\")\n",
    "\n"
   ]
  },
  {
   "cell_type": "code",
   "execution_count": 80,
   "id": "0b495f4e-8085-4dbd-9294-adaf82976fb4",
   "metadata": {},
   "outputs": [
    {
     "name": "stdin",
     "output_type": "stream",
     "text": [
      "enter a txt: neehaaaa\n"
     ]
    },
    {
     "name": "stdout",
     "output_type": "stream",
     "text": [
      "4\n"
     ]
    }
   ],
   "source": [
    "#Count how many times \"a\" appears in a string.\n",
    "txt=input(\"enter a txt:\")\n",
    "count = txt.count('a')\n",
    "print(count)"
   ]
  },
  {
   "cell_type": "code",
   "execution_count": 81,
   "id": "917239fd-aa8a-4cc8-9065-3087f49014cd",
   "metadata": {},
   "outputs": [
    {
     "name": "stdin",
     "output_type": "stream",
     "text": [
      "enter a txt: NEEHa\n"
     ]
    },
    {
     "name": "stdout",
     "output_type": "stream",
     "text": [
      "neeha\n"
     ]
    }
   ],
   "source": [
    "#Convert a sentence to lowercase \n",
    "txt=input(\"enter a txt:\")\n",
    "sentence = txt.lower()\n",
    "print(sentence)"
   ]
  },
  {
   "cell_type": "code",
   "execution_count": 84,
   "id": "6b67d20d-c6aa-445b-a356-d96e9022f7e7",
   "metadata": {},
   "outputs": [
    {
     "name": "stdout",
     "output_type": "stream",
     "text": [
      "hi neeha, how was your day\n"
     ]
    }
   ],
   "source": [
    "#replace a word\n",
    "txt= (\"hello neeha, how is your day\")\n",
    "replace= txt.replace(\"hello\",\"hi\").replace(\"is\",\"was\")\n",
    "print(replace)\n"
   ]
  },
  {
   "cell_type": "code",
   "execution_count": 85,
   "id": "83f175da-81f5-4237-b450-b4a62bb83d34",
   "metadata": {},
   "outputs": [
    {
     "name": "stdin",
     "output_type": "stream",
     "text": [
      "enter a txt: neeha\n"
     ]
    },
    {
     "name": "stdout",
     "output_type": "stream",
     "text": [
      "aheen\n"
     ]
    }
   ],
   "source": [
    "#Reverse a string using slicing.\n",
    "#tct[start:end:step]\n",
    "txt=input(\"enter a txt:\")\n",
    "reverse=txt[::-1]\n",
    "print(reverse)"
   ]
  },
  {
   "cell_type": "code",
   "execution_count": 86,
   "id": "0697f3d3-617e-4819-96b8-70ddc23cb678",
   "metadata": {},
   "outputs": [
    {
     "name": "stdout",
     "output_type": "stream",
     "text": [
      "4\n"
     ]
    }
   ],
   "source": [
    "#Lists\n",
    "#Create a list of 5 numbers and print the third one.\n",
    "list1=[1,2,3,4,5,6,7]\n",
    "print(list1[3])\n"
   ]
  },
  {
   "cell_type": "code",
   "execution_count": 93,
   "id": "69edb2ad-18f2-4114-8a17-75e96f570122",
   "metadata": {},
   "outputs": [
    {
     "name": "stdout",
     "output_type": "stream",
     "text": [
      "['neeha', 'nani', 'fatima', 'manu', 'hima', 'dinesh', 'pooja']\n"
     ]
    }
   ],
   "source": [
    "#Add an item to the list and print the list.\n",
    "list2=[\"neeha\",\"nani\",\"fatima\",\"manu\",\"hima\",\"dinesh\"]\n",
    "list2.append(\"pooja\")\n",
    "print(list2)"
   ]
  },
  {
   "cell_type": "code",
   "execution_count": 97,
   "id": "cf33629c-6272-4384-96e1-373ceff28ab6",
   "metadata": {},
   "outputs": [
    {
     "name": "stdout",
     "output_type": "stream",
     "text": [
      "['neeha', 'nani', 'fatima', 'manu', 'hima', 'dinesh', 'pooja', 'sam', 'varshi']\n"
     ]
    }
   ],
   "source": [
    "#Add an item to the list and print the list.(,ultiple items)\n",
    "list2=[\"neeha\",\"nani\",\"fatima\",\"manu\",\"hima\",\"dinesh\"]\n",
    "list2.extend([\"pooja\",\"sam\",\"varshi\"])\n",
    "print(list2)"
   ]
  },
  {
   "cell_type": "code",
   "execution_count": 99,
   "id": "bec437a0-c70f-440a-92ad-d3b15bd5fe5f",
   "metadata": {},
   "outputs": [
    {
     "name": "stdout",
     "output_type": "stream",
     "text": [
      "[1, 32, 75, 77, 96]\n"
     ]
    }
   ],
   "source": [
    "#Sort a list \n",
    "\n",
    "number=[1,75,32,96,77]\n",
    "number.sort()\n",
    "print(number)\n"
   ]
  },
  {
   "cell_type": "code",
   "execution_count": 100,
   "id": "827a9251-a454-42c7-a1d4-941c94b783d3",
   "metadata": {},
   "outputs": [
    {
     "name": "stdout",
     "output_type": "stream",
     "text": [
      "['sonu', 'ravi', 'me', 'she', 'k', 'hii', 'dee', 'ii']\n"
     ]
    }
   ],
   "source": [
    "#Merge two lists and print the combined list.\n",
    "\n",
    "\n",
    "list2=[\"k\",\"hii\",\"dee\",\"ii\"]\n",
    "listofpeople=list1+list2\n",
    "print(listofpeople)"
   ]
  },
  {
   "cell_type": "code",
   "execution_count": 107,
   "id": "3b8cfad0-1c2b-49de-b225-83f0414e2f6f",
   "metadata": {},
   "outputs": [
    {
     "name": "stdout",
     "output_type": "stream",
     "text": [
      "['sonu', 'she']\n"
     ]
    }
   ],
   "source": [
    "#remove an element.\n",
    "\n",
    "list1=[\"sonu\",\"ravi\",\"me\",\"she\"]\n",
    "list1.remove(\"me\")\n",
    "list1.pop(1)\n",
    "print(list1)"
   ]
  },
  {
   "cell_type": "code",
   "execution_count": 108,
   "id": "fc25ef22-6848-44b4-a036-8ca797eaf901",
   "metadata": {},
   "outputs": [
    {
     "name": "stdout",
     "output_type": "stream",
     "text": [
      "Student 1's first subject mark: 80\n",
      "Student 2's second subject mark: 85\n",
      "Student 3's third subject mark: 92\n"
     ]
    }
   ],
   "source": [
    "#Create a nested list (2D list) and print one value inside.\n",
    "marks = [\n",
    "    [80, 75, 90],    # Marks of Student 1\n",
    "    [60, 85, 70],    # Marks of Student 2\n",
    "    [95, 88, 92]     # Marks of Student 3\n",
    "]\n",
    "print(\"Student 1's first subject mark:\", marks[0][0])  # 80\n",
    "print(\"Student 2's second subject mark:\", marks[1][1])  # 85\n",
    "print(\"Student 3's third subject mark:\", marks[2][2])  # 92\n",
    "\n"
   ]
  },
  {
   "cell_type": "code",
   "execution_count": 109,
   "id": "e79cea83-4172-4d49-bd47-0ecbc550ebb7",
   "metadata": {},
   "outputs": [
    {
     "name": "stdout",
     "output_type": "stream",
     "text": [
      "swathi\n"
     ]
    }
   ],
   "source": [
    "#Tuples\n",
    "#Create a tuple of 3 numbers and access index 1.\n",
    "\n",
    "tuple1=(\"neeha\",\"swathi\",\"lii\",\"meee\")\n",
    "print(tuple1[1])"
   ]
  },
  {
   "cell_type": "code",
   "execution_count": 115,
   "id": "9d294579-10bc-4dd7-af0d-ad0b8d8d6106",
   "metadata": {},
   "outputs": [
    {
     "name": "stdout",
     "output_type": "stream",
     "text": [
      "(2, 3, 4, 5, 5)\n",
      "2\n"
     ]
    }
   ],
   "source": [
    "#Convert a list to tuple and count an element.\n",
    "list1 = [2, 3, 4, 5, 5]\n",
    "\n",
    "Q = tuple(list1)       \n",
    "count = Q.count(5)      \n",
    "print(Q)\n",
    "print( count)\n"
   ]
  },
  {
   "cell_type": "code",
   "execution_count": 117,
   "id": "58ce1dec-ec1e-4c8b-8d27-cbb8bda17b28",
   "metadata": {},
   "outputs": [
    {
     "name": "stdout",
     "output_type": "stream",
     "text": [
      "{'pink', 'green', 'black'}\n"
     ]
    }
   ],
   "source": [
    "#Create a set of 3 colors and add a new color.\n",
    "set1={\"black\",\"pink\"}\n",
    "set1.add(\"green\")\n",
    "print(set1)"
   ]
  },
  {
   "cell_type": "code",
   "execution_count": 120,
   "id": "06cafce4-4ffb-4108-82b4-cb0e26be23bc",
   "metadata": {},
   "outputs": [
    {
     "name": "stdout",
     "output_type": "stream",
     "text": [
      "{'microsoft', 'google', 'banana', 'cherry', 'apple'}\n",
      "{'apple'}\n"
     ]
    }
   ],
   "source": [
    "#Find the union and intersection of two sets.\n",
    "x = {\"apple\", \"banana\", \"cherry\"}\n",
    "y = {\"google\", \"microsoft\", \"apple\"}\n",
    "\n",
    "z = x.union(y)\n",
    "u= x.intersection(y)\n",
    "print(z)\n",
    "print(u)"
   ]
  },
  {
   "cell_type": "code",
   "execution_count": 122,
   "id": "4bc4a0fa-244b-4921-bde1-d4f60c3c7e48",
   "metadata": {},
   "outputs": [
    {
     "name": "stdout",
     "output_type": "stream",
     "text": [
      "{'bbbbb', 'cccc', 'apple', 'aaaa'}\n"
     ]
    }
   ],
   "source": [
    "#Remove duplicate items from a list using set.\n",
    "list1=[\"apple\",\"aaaa\",\"bbbbb\",\"aaaa\",\"cccc\",\"apple\"]\n",
    "rem= set(list1)\n",
    "print(rem)\n",
    "him= list(rem)"
   ]
  },
  {
   "cell_type": "code",
   "execution_count": 123,
   "id": "8251d97a-ff81-4b7f-9f30-2996e8641a95",
   "metadata": {},
   "outputs": [
    {
     "name": "stdout",
     "output_type": "stream",
     "text": [
      "Name: Neeha\n",
      "Age: 20\n",
      "City: Hyderabad\n"
     ]
    }
   ],
   "source": [
    "#dictionary \n",
    "#Create a dictionary and print \n",
    "student = {\n",
    "    \"name\": \"Neeha\",\n",
    "    \"age\": 20,\n",
    "    \"city\": \"Hyderabad\"\n",
    "}\n",
    "print(\"Name:\", student[\"name\"])\n",
    "print(\"Age:\", student[\"age\"])\n",
    "print(\"City:\", student[\"city\"])\n"
   ]
  },
  {
   "cell_type": "code",
   "execution_count": 124,
   "id": "05bb29aa-6bfc-40e0-9c39-19af0a39b54b",
   "metadata": {},
   "outputs": [
    {
     "name": "stdout",
     "output_type": "stream",
     "text": [
      "{'name': 'Neeha', 'age': 21, 'city': 'Hyderabad', 'course': 'Python'}\n"
     ]
    }
   ],
   "source": [
    "#Update a value and add a new key\n",
    "# Update existing value\n",
    "student[\"age\"] = 21\n",
    "\n",
    "# Add new key-value\n",
    "student[\"course\"] = \"Python\"\n",
    "\n",
    "# Print updated dictionary\n",
    "print(student)\n"
   ]
  },
  {
   "cell_type": "code",
   "execution_count": 125,
   "id": "31c51a50-27ce-419f-bd6c-a744515063a3",
   "metadata": {},
   "outputs": [
    {
     "name": "stdout",
     "output_type": "stream",
     "text": [
      "name : Neeha\n",
      "age : 21\n",
      "city : Hyderabad\n",
      "course : Python\n"
     ]
    }
   ],
   "source": [
    "# Loop through keys and values\n",
    "for key, value in student.items():\n",
    "    print(key, \":\", value)\n",
    "\n"
   ]
  },
  {
   "cell_type": "code",
   "execution_count": 130,
   "id": "d19de6a1-b2fc-4455-a19c-72965dc2bcc6",
   "metadata": {},
   "outputs": [
    {
     "name": "stdout",
     "output_type": "stream",
     "text": [
      "end\n"
     ]
    }
   ],
   "source": [
    "print(\"end\")"
   ]
  },
  {
   "cell_type": "code",
   "execution_count": null,
   "id": "74d9cbe5-847b-4ca4-acec-d6456cc0f4a3",
   "metadata": {},
   "outputs": [],
   "source": []
  }
 ],
 "metadata": {
  "kernelspec": {
   "display_name": "Python 3 (ipykernel)",
   "language": "python",
   "name": "python3"
  },
  "language_info": {
   "codemirror_mode": {
    "name": "ipython",
    "version": 3
   },
   "file_extension": ".py",
   "mimetype": "text/x-python",
   "name": "python",
   "nbconvert_exporter": "python",
   "pygments_lexer": "ipython3",
   "version": "3.13.3"
  }
 },
 "nbformat": 4,
 "nbformat_minor": 5
}
